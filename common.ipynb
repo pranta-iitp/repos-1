{
 "cells": [
  {
   "cell_type": "code",
   "execution_count": 1,
   "id": "053cdbd0-1cac-47df-91e3-1e44ef586f69",
   "metadata": {},
   "outputs": [],
   "source": [
    "\n",
    "import pandas as pd\n",
    "from tabulate import tabulate\n",
    "\n",
    "def display_missing_values_table(df):\n",
    "    \"\"\"\n",
    "    Displays a table of columns, missing values count, \n",
    "    and missing percentage using the tabulate library.\n",
    "    \"\"\"\n",
    "    table_data = [\n",
    "        [col, df[col].isnull().sum(), df[col].isnull().mean() * 100]\n",
    "        for col in df.columns\n",
    "    ]\n",
    "    print(tabulate(table_data, headers=[\"Column Name\", \"Missing Values\", \"Missing Percentage (%)\"], tablefmt=\"grid\"))\n"
   ]
  },
  {
   "cell_type": "code",
   "execution_count": null,
   "id": "9d73e28f-628e-49f7-a13f-64ab85456603",
   "metadata": {},
   "outputs": [],
   "source": []
  }
 ],
 "metadata": {
  "kernelspec": {
   "display_name": "Python 3 (ipykernel)",
   "language": "python",
   "name": "python3"
  },
  "language_info": {
   "codemirror_mode": {
    "name": "ipython",
    "version": 3
   },
   "file_extension": ".py",
   "mimetype": "text/x-python",
   "name": "python",
   "nbconvert_exporter": "python",
   "pygments_lexer": "ipython3",
   "version": "3.11.7"
  }
 },
 "nbformat": 4,
 "nbformat_minor": 5
}
