{
 "cells": [
  {
   "cell_type": "code",
   "execution_count": null,
   "id": "053cdbd0-1cac-47df-91e3-1e44ef586f69",
   "metadata": {},
   "outputs": [],
   "source": [
    "\n",
    "import pandas as pd\n",
    "from tabulate import tabulate\n",
    "\n",
    "def display_missing_values_table(df):\n",
    "    \"\"\"\n",
    "    Displays a table of columns, missing values count, \n",
    "    and missing percentage using the tabulate library.\n",
    "    \"\"\"\n",
    "    table_data = [\n",
    "        [col, df[col].isnull().sum(), df[col].isnull().mean() * 100]\n",
    "        for col in df.columns\n",
    "    ]\n",
    "    print(tabulate(table_data, headers=[\"Column Name\", \"Missing Values\", \"Missing Percentage (%)\"], tablefmt=\"grid\"))\n"
   ]
  }
 ],
 "metadata": {
  "kernelspec": {
   "display_name": "Python 3 (ipykernel)",
   "language": "python",
   "name": "python3"
  },
  "language_info": {
   "codemirror_mode": {
    "name": "ipython",
    "version": 3
   },
   "file_extension": ".py",
   "mimetype": "text/x-python",
   "name": "python",
   "nbconvert_exporter": "python",
   "pygments_lexer": "ipython3",
   "version": "3.11.7"
  }
 },
 "nbformat": 4,
 "nbformat_minor": 5
}
