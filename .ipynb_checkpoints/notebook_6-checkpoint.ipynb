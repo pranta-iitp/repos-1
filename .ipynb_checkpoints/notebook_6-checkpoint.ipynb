{
 "cells": [
  {
   "cell_type": "code",
   "execution_count": 3,
   "id": "f5b3b1ac-206d-4951-921b-6ca6a0997cac",
   "metadata": {},
   "outputs": [],
   "source": [
    "import numpy as np\n",
    "import pandas as pd\n",
    "\n",
    "from sklearn.model_selection import train_test_split\n",
    "from sklearn.impute import SimpleImputer\n",
    "from sklearn.preprocessing import OneHotEncoder\n",
    "from sklearn.preprocessing import MinMaxScaler\n",
    "from sklearn.tree import DecisionTreeClassifier\n"
   ]
  },
  {
   "cell_type": "code",
   "execution_count": 4,
   "id": "30e17e56-a3e5-44f7-afee-b0c3f2ade96f",
   "metadata": {},
   "outputs": [],
   "source": [
    "df = pd.read_csv(\"data_science_job.csv\")"
   ]
  },
  {
   "cell_type": "code",
   "execution_count": 5,
   "id": "d920ca21-33e1-4e4a-ae62-b6d3b4481492",
   "metadata": {},
   "outputs": [
    {
     "data": {
      "text/html": [
       "<div>\n",
       "<style scoped>\n",
       "    .dataframe tbody tr th:only-of-type {\n",
       "        vertical-align: middle;\n",
       "    }\n",
       "\n",
       "    .dataframe tbody tr th {\n",
       "        vertical-align: top;\n",
       "    }\n",
       "\n",
       "    .dataframe thead th {\n",
       "        text-align: right;\n",
       "    }\n",
       "</style>\n",
       "<table border=\"1\" class=\"dataframe\">\n",
       "  <thead>\n",
       "    <tr style=\"text-align: right;\">\n",
       "      <th></th>\n",
       "      <th>enrollee_id</th>\n",
       "      <th>city</th>\n",
       "      <th>city_development_index</th>\n",
       "      <th>gender</th>\n",
       "      <th>relevent_experience</th>\n",
       "      <th>enrolled_university</th>\n",
       "      <th>education_level</th>\n",
       "      <th>major_discipline</th>\n",
       "      <th>experience</th>\n",
       "      <th>company_size</th>\n",
       "      <th>company_type</th>\n",
       "      <th>training_hours</th>\n",
       "      <th>target</th>\n",
       "    </tr>\n",
       "  </thead>\n",
       "  <tbody>\n",
       "    <tr>\n",
       "      <th>0</th>\n",
       "      <td>8949</td>\n",
       "      <td>city_103</td>\n",
       "      <td>0.920</td>\n",
       "      <td>Male</td>\n",
       "      <td>Has relevent experience</td>\n",
       "      <td>no_enrollment</td>\n",
       "      <td>Graduate</td>\n",
       "      <td>STEM</td>\n",
       "      <td>20.0</td>\n",
       "      <td>NaN</td>\n",
       "      <td>NaN</td>\n",
       "      <td>36.0</td>\n",
       "      <td>1.0</td>\n",
       "    </tr>\n",
       "    <tr>\n",
       "      <th>1</th>\n",
       "      <td>29725</td>\n",
       "      <td>city_40</td>\n",
       "      <td>0.776</td>\n",
       "      <td>Male</td>\n",
       "      <td>No relevent experience</td>\n",
       "      <td>no_enrollment</td>\n",
       "      <td>Graduate</td>\n",
       "      <td>STEM</td>\n",
       "      <td>15.0</td>\n",
       "      <td>50-99</td>\n",
       "      <td>Pvt Ltd</td>\n",
       "      <td>47.0</td>\n",
       "      <td>0.0</td>\n",
       "    </tr>\n",
       "    <tr>\n",
       "      <th>2</th>\n",
       "      <td>11561</td>\n",
       "      <td>city_21</td>\n",
       "      <td>0.624</td>\n",
       "      <td>NaN</td>\n",
       "      <td>No relevent experience</td>\n",
       "      <td>Full time course</td>\n",
       "      <td>Graduate</td>\n",
       "      <td>STEM</td>\n",
       "      <td>5.0</td>\n",
       "      <td>NaN</td>\n",
       "      <td>NaN</td>\n",
       "      <td>83.0</td>\n",
       "      <td>0.0</td>\n",
       "    </tr>\n",
       "    <tr>\n",
       "      <th>3</th>\n",
       "      <td>33241</td>\n",
       "      <td>city_115</td>\n",
       "      <td>0.789</td>\n",
       "      <td>NaN</td>\n",
       "      <td>No relevent experience</td>\n",
       "      <td>NaN</td>\n",
       "      <td>Graduate</td>\n",
       "      <td>Business Degree</td>\n",
       "      <td>0.0</td>\n",
       "      <td>NaN</td>\n",
       "      <td>Pvt Ltd</td>\n",
       "      <td>52.0</td>\n",
       "      <td>1.0</td>\n",
       "    </tr>\n",
       "    <tr>\n",
       "      <th>4</th>\n",
       "      <td>666</td>\n",
       "      <td>city_162</td>\n",
       "      <td>0.767</td>\n",
       "      <td>Male</td>\n",
       "      <td>Has relevent experience</td>\n",
       "      <td>no_enrollment</td>\n",
       "      <td>Masters</td>\n",
       "      <td>STEM</td>\n",
       "      <td>20.0</td>\n",
       "      <td>50-99</td>\n",
       "      <td>Funded Startup</td>\n",
       "      <td>8.0</td>\n",
       "      <td>0.0</td>\n",
       "    </tr>\n",
       "    <tr>\n",
       "      <th>...</th>\n",
       "      <td>...</td>\n",
       "      <td>...</td>\n",
       "      <td>...</td>\n",
       "      <td>...</td>\n",
       "      <td>...</td>\n",
       "      <td>...</td>\n",
       "      <td>...</td>\n",
       "      <td>...</td>\n",
       "      <td>...</td>\n",
       "      <td>...</td>\n",
       "      <td>...</td>\n",
       "      <td>...</td>\n",
       "      <td>...</td>\n",
       "    </tr>\n",
       "    <tr>\n",
       "      <th>19153</th>\n",
       "      <td>7386</td>\n",
       "      <td>city_173</td>\n",
       "      <td>0.878</td>\n",
       "      <td>Male</td>\n",
       "      <td>No relevent experience</td>\n",
       "      <td>no_enrollment</td>\n",
       "      <td>Graduate</td>\n",
       "      <td>Humanities</td>\n",
       "      <td>14.0</td>\n",
       "      <td>NaN</td>\n",
       "      <td>NaN</td>\n",
       "      <td>42.0</td>\n",
       "      <td>1.0</td>\n",
       "    </tr>\n",
       "    <tr>\n",
       "      <th>19154</th>\n",
       "      <td>31398</td>\n",
       "      <td>city_103</td>\n",
       "      <td>0.920</td>\n",
       "      <td>Male</td>\n",
       "      <td>Has relevent experience</td>\n",
       "      <td>no_enrollment</td>\n",
       "      <td>Graduate</td>\n",
       "      <td>STEM</td>\n",
       "      <td>14.0</td>\n",
       "      <td>NaN</td>\n",
       "      <td>NaN</td>\n",
       "      <td>52.0</td>\n",
       "      <td>1.0</td>\n",
       "    </tr>\n",
       "    <tr>\n",
       "      <th>19155</th>\n",
       "      <td>24576</td>\n",
       "      <td>city_103</td>\n",
       "      <td>0.920</td>\n",
       "      <td>Male</td>\n",
       "      <td>Has relevent experience</td>\n",
       "      <td>no_enrollment</td>\n",
       "      <td>Graduate</td>\n",
       "      <td>STEM</td>\n",
       "      <td>20.0</td>\n",
       "      <td>50-99</td>\n",
       "      <td>Pvt Ltd</td>\n",
       "      <td>44.0</td>\n",
       "      <td>0.0</td>\n",
       "    </tr>\n",
       "    <tr>\n",
       "      <th>19156</th>\n",
       "      <td>5756</td>\n",
       "      <td>city_65</td>\n",
       "      <td>0.802</td>\n",
       "      <td>Male</td>\n",
       "      <td>Has relevent experience</td>\n",
       "      <td>no_enrollment</td>\n",
       "      <td>High School</td>\n",
       "      <td>NaN</td>\n",
       "      <td>0.0</td>\n",
       "      <td>500-999</td>\n",
       "      <td>Pvt Ltd</td>\n",
       "      <td>97.0</td>\n",
       "      <td>0.0</td>\n",
       "    </tr>\n",
       "    <tr>\n",
       "      <th>19157</th>\n",
       "      <td>23834</td>\n",
       "      <td>city_67</td>\n",
       "      <td>0.855</td>\n",
       "      <td>NaN</td>\n",
       "      <td>No relevent experience</td>\n",
       "      <td>no_enrollment</td>\n",
       "      <td>Primary School</td>\n",
       "      <td>NaN</td>\n",
       "      <td>2.0</td>\n",
       "      <td>NaN</td>\n",
       "      <td>NaN</td>\n",
       "      <td>127.0</td>\n",
       "      <td>0.0</td>\n",
       "    </tr>\n",
       "  </tbody>\n",
       "</table>\n",
       "<p>19158 rows × 13 columns</p>\n",
       "</div>"
      ],
      "text/plain": [
       "       enrollee_id      city  city_development_index gender  \\\n",
       "0             8949  city_103                   0.920   Male   \n",
       "1            29725   city_40                   0.776   Male   \n",
       "2            11561   city_21                   0.624    NaN   \n",
       "3            33241  city_115                   0.789    NaN   \n",
       "4              666  city_162                   0.767   Male   \n",
       "...            ...       ...                     ...    ...   \n",
       "19153         7386  city_173                   0.878   Male   \n",
       "19154        31398  city_103                   0.920   Male   \n",
       "19155        24576  city_103                   0.920   Male   \n",
       "19156         5756   city_65                   0.802   Male   \n",
       "19157        23834   city_67                   0.855    NaN   \n",
       "\n",
       "           relevent_experience enrolled_university education_level  \\\n",
       "0      Has relevent experience       no_enrollment        Graduate   \n",
       "1       No relevent experience       no_enrollment        Graduate   \n",
       "2       No relevent experience    Full time course        Graduate   \n",
       "3       No relevent experience                 NaN        Graduate   \n",
       "4      Has relevent experience       no_enrollment         Masters   \n",
       "...                        ...                 ...             ...   \n",
       "19153   No relevent experience       no_enrollment        Graduate   \n",
       "19154  Has relevent experience       no_enrollment        Graduate   \n",
       "19155  Has relevent experience       no_enrollment        Graduate   \n",
       "19156  Has relevent experience       no_enrollment     High School   \n",
       "19157   No relevent experience       no_enrollment  Primary School   \n",
       "\n",
       "      major_discipline  experience company_size    company_type  \\\n",
       "0                 STEM        20.0          NaN             NaN   \n",
       "1                 STEM        15.0        50-99         Pvt Ltd   \n",
       "2                 STEM         5.0          NaN             NaN   \n",
       "3      Business Degree         0.0          NaN         Pvt Ltd   \n",
       "4                 STEM        20.0        50-99  Funded Startup   \n",
       "...                ...         ...          ...             ...   \n",
       "19153       Humanities        14.0          NaN             NaN   \n",
       "19154             STEM        14.0          NaN             NaN   \n",
       "19155             STEM        20.0        50-99         Pvt Ltd   \n",
       "19156              NaN         0.0      500-999         Pvt Ltd   \n",
       "19157              NaN         2.0          NaN             NaN   \n",
       "\n",
       "       training_hours  target  \n",
       "0                36.0     1.0  \n",
       "1                47.0     0.0  \n",
       "2                83.0     0.0  \n",
       "3                52.0     1.0  \n",
       "4                 8.0     0.0  \n",
       "...               ...     ...  \n",
       "19153            42.0     1.0  \n",
       "19154            52.0     1.0  \n",
       "19155            44.0     0.0  \n",
       "19156            97.0     0.0  \n",
       "19157           127.0     0.0  \n",
       "\n",
       "[19158 rows x 13 columns]"
      ]
     },
     "execution_count": 5,
     "metadata": {},
     "output_type": "execute_result"
    }
   ],
   "source": [
    "df"
   ]
  },
  {
   "cell_type": "code",
   "execution_count": 6,
   "id": "a0f05404-8b7d-478b-be5e-19a4e32f6a0b",
   "metadata": {},
   "outputs": [
    {
     "data": {
      "text/plain": [
       "enrollee_id                  0\n",
       "city                         0\n",
       "city_development_index     479\n",
       "gender                    4508\n",
       "relevent_experience          0\n",
       "enrolled_university        386\n",
       "education_level            460\n",
       "major_discipline          2813\n",
       "experience                  65\n",
       "company_size              5938\n",
       "company_type              6140\n",
       "training_hours             766\n",
       "target                       0\n",
       "dtype: int64"
      ]
     },
     "execution_count": 6,
     "metadata": {},
     "output_type": "execute_result"
    }
   ],
   "source": [
    "df.isnull().sum()"
   ]
  },
  {
   "cell_type": "code",
   "execution_count": 7,
   "id": "d2b718c1-6545-4b65-8d8c-975089635d9e",
   "metadata": {},
   "outputs": [
    {
     "data": {
      "text/plain": [
       "enrollee_id                0.000000\n",
       "city                       0.000000\n",
       "city_development_index     2.500261\n",
       "gender                    23.530640\n",
       "relevent_experience        0.000000\n",
       "enrolled_university        2.014824\n",
       "education_level            2.401086\n",
       "major_discipline          14.683161\n",
       "experience                 0.339284\n",
       "company_size              30.994885\n",
       "company_type              32.049274\n",
       "training_hours             3.998330\n",
       "target                     0.000000\n",
       "dtype: float64"
      ]
     },
     "execution_count": 7,
     "metadata": {},
     "output_type": "execute_result"
    }
   ],
   "source": [
    "df.isnull().mean()*100"
   ]
  },
  {
   "cell_type": "code",
   "execution_count": 8,
   "id": "4f497acc-eee7-4b12-b9cd-155447ecdfef",
   "metadata": {},
   "outputs": [
    {
     "name": "stdout",
     "output_type": "stream",
     "text": [
      "enrollee_id 0 0.0\n",
      "city 0 0.0\n",
      "city_development_index 479 2.5002609875769912\n",
      "gender 4508 23.530639941538784\n",
      "relevent_experience 0 0.0\n",
      "enrolled_university 386 2.0148240943731075\n",
      "education_level 460 2.401085708320284\n",
      "major_discipline 2813 14.68316108153252\n",
      "experience 65 0.33928385008873574\n",
      "company_size 5938 30.994884643490973\n",
      "company_type 6140 32.04927445453596\n",
      "training_hours 766 3.998329679507256\n",
      "target 0 0.0\n"
     ]
    }
   ],
   "source": [
    "for col in df.columns:\n",
    "    print(col,df[col].isnull().sum(),df[col].isnull().mean()*100)"
   ]
  },
  {
   "cell_type": "code",
   "execution_count": 9,
   "id": "adf419bd-3c80-4f76-baf0-f56ecb38ca2e",
   "metadata": {},
   "outputs": [
    {
     "name": "stdout",
     "output_type": "stream",
     "text": [
      "               Column Name  Missing Values  Missing Percentage (%)\n",
      "0              enrollee_id               0                0.000000\n",
      "1                     city               0                0.000000\n",
      "2   city_development_index             479                2.500261\n",
      "3                   gender            4508               23.530640\n",
      "4      relevent_experience               0                0.000000\n",
      "5      enrolled_university             386                2.014824\n",
      "6          education_level             460                2.401086\n",
      "7         major_discipline            2813               14.683161\n",
      "8               experience              65                0.339284\n",
      "9             company_size            5938               30.994885\n",
      "10            company_type            6140               32.049274\n",
      "11          training_hours             766                3.998330\n",
      "12                  target               0                0.000000\n"
     ]
    }
   ],
   "source": [
    "missing_data = {\n",
    "    \"Column Name\": df.columns,\n",
    "    \"Missing Values\": [df[col].isnull().sum() for col in df.columns],\n",
    "    \"Missing Percentage (%)\": [df[col].isnull().mean() * 100 for col in df.columns],\n",
    "}\n",
    "\n",
    "missing_table = pd.DataFrame(missing_data)\n",
    "print(missing_table)\n"
   ]
  },
  {
   "cell_type": "code",
   "execution_count": 10,
   "id": "e90b0d2f-e4a9-4c55-95e5-3072e654e6f8",
   "metadata": {},
   "outputs": [
    {
     "name": "stdout",
     "output_type": "stream",
     "text": [
      "+------------------------+------------------+--------------------------+\n",
      "| Column Name            |   Missing Values |   Missing Percentage (%) |\n",
      "+========================+==================+==========================+\n",
      "| enrollee_id            |                0 |                 0        |\n",
      "+------------------------+------------------+--------------------------+\n",
      "| city                   |                0 |                 0        |\n",
      "+------------------------+------------------+--------------------------+\n",
      "| city_development_index |              479 |                 2.50026  |\n",
      "+------------------------+------------------+--------------------------+\n",
      "| gender                 |             4508 |                23.5306   |\n",
      "+------------------------+------------------+--------------------------+\n",
      "| relevent_experience    |                0 |                 0        |\n",
      "+------------------------+------------------+--------------------------+\n",
      "| enrolled_university    |              386 |                 2.01482  |\n",
      "+------------------------+------------------+--------------------------+\n",
      "| education_level        |              460 |                 2.40109  |\n",
      "+------------------------+------------------+--------------------------+\n",
      "| major_discipline       |             2813 |                14.6832   |\n",
      "+------------------------+------------------+--------------------------+\n",
      "| experience             |               65 |                 0.339284 |\n",
      "+------------------------+------------------+--------------------------+\n",
      "| company_size           |             5938 |                30.9949   |\n",
      "+------------------------+------------------+--------------------------+\n",
      "| company_type           |             6140 |                32.0493   |\n",
      "+------------------------+------------------+--------------------------+\n",
      "| training_hours         |              766 |                 3.99833  |\n",
      "+------------------------+------------------+--------------------------+\n",
      "| target                 |                0 |                 0        |\n",
      "+------------------------+------------------+--------------------------+\n"
     ]
    }
   ],
   "source": [
    "from tabulate import tabulate\n",
    "\n",
    "table_data = [\n",
    "    [col, df[col].isnull().sum(), df[col].isnull().mean() * 100]\n",
    "    for col in df.columns\n",
    "]\n",
    "print(tabulate(table_data, headers=[\"Column Name\", \"Missing Values\", \"Missing Percentage (%)\"], tablefmt=\"grid\"))\n"
   ]
  },
  {
   "cell_type": "code",
   "execution_count": 11,
   "id": "1a0ca832-90d8-4a9f-953a-490df60afcdc",
   "metadata": {},
   "outputs": [
    {
     "name": "stdout",
     "output_type": "stream",
     "text": [
      "Requirement already satisfied: import-ipynb in c:\\users\\intel\\anaconda3\\lib\\site-packages (0.2)\n",
      "Requirement already satisfied: IPython in c:\\users\\intel\\anaconda3\\lib\\site-packages (from import-ipynb) (8.20.0)\n",
      "Requirement already satisfied: nbformat in c:\\users\\intel\\anaconda3\\lib\\site-packages (from import-ipynb) (5.9.2)\n",
      "Requirement already satisfied: decorator in c:\\users\\intel\\anaconda3\\lib\\site-packages (from IPython->import-ipynb) (5.1.1)\n",
      "Requirement already satisfied: jedi>=0.16 in c:\\users\\intel\\anaconda3\\lib\\site-packages (from IPython->import-ipynb) (0.18.1)\n",
      "Requirement already satisfied: matplotlib-inline in c:\\users\\intel\\anaconda3\\lib\\site-packages (from IPython->import-ipynb) (0.1.6)\n",
      "Requirement already satisfied: prompt-toolkit<3.1.0,>=3.0.41 in c:\\users\\intel\\anaconda3\\lib\\site-packages (from IPython->import-ipynb) (3.0.43)\n",
      "Requirement already satisfied: pygments>=2.4.0 in c:\\users\\intel\\anaconda3\\lib\\site-packages (from IPython->import-ipynb) (2.15.1)\n",
      "Requirement already satisfied: stack-data in c:\\users\\intel\\anaconda3\\lib\\site-packages (from IPython->import-ipynb) (0.2.0)\n",
      "Requirement already satisfied: traitlets>=5 in c:\\users\\intel\\anaconda3\\lib\\site-packages (from IPython->import-ipynb) (5.7.1)\n",
      "Requirement already satisfied: colorama in c:\\users\\intel\\anaconda3\\lib\\site-packages (from IPython->import-ipynb) (0.4.6)\n",
      "Requirement already satisfied: fastjsonschema in c:\\users\\intel\\anaconda3\\lib\\site-packages (from nbformat->import-ipynb) (2.16.2)\n",
      "Requirement already satisfied: jsonschema>=2.6 in c:\\users\\intel\\anaconda3\\lib\\site-packages (from nbformat->import-ipynb) (4.19.2)\n",
      "Requirement already satisfied: jupyter-core in c:\\users\\intel\\anaconda3\\lib\\site-packages (from nbformat->import-ipynb) (5.5.0)\n",
      "Requirement already satisfied: parso<0.9.0,>=0.8.0 in c:\\users\\intel\\anaconda3\\lib\\site-packages (from jedi>=0.16->IPython->import-ipynb) (0.8.3)\n",
      "Requirement already satisfied: attrs>=22.2.0 in c:\\users\\intel\\anaconda3\\lib\\site-packages (from jsonschema>=2.6->nbformat->import-ipynb) (23.1.0)\n",
      "Requirement already satisfied: jsonschema-specifications>=2023.03.6 in c:\\users\\intel\\anaconda3\\lib\\site-packages (from jsonschema>=2.6->nbformat->import-ipynb) (2023.7.1)\n",
      "Requirement already satisfied: referencing>=0.28.4 in c:\\users\\intel\\anaconda3\\lib\\site-packages (from jsonschema>=2.6->nbformat->import-ipynb) (0.30.2)\n",
      "Requirement already satisfied: rpds-py>=0.7.1 in c:\\users\\intel\\anaconda3\\lib\\site-packages (from jsonschema>=2.6->nbformat->import-ipynb) (0.10.6)\n",
      "Requirement already satisfied: wcwidth in c:\\users\\intel\\anaconda3\\lib\\site-packages (from prompt-toolkit<3.1.0,>=3.0.41->IPython->import-ipynb) (0.2.5)\n",
      "Requirement already satisfied: platformdirs>=2.5 in c:\\users\\intel\\anaconda3\\lib\\site-packages (from jupyter-core->nbformat->import-ipynb) (3.10.0)\n",
      "Requirement already satisfied: pywin32>=300 in c:\\users\\intel\\anaconda3\\lib\\site-packages (from jupyter-core->nbformat->import-ipynb) (305.1)\n",
      "Requirement already satisfied: executing in c:\\users\\intel\\anaconda3\\lib\\site-packages (from stack-data->IPython->import-ipynb) (0.8.3)\n",
      "Requirement already satisfied: asttokens in c:\\users\\intel\\anaconda3\\lib\\site-packages (from stack-data->IPython->import-ipynb) (2.0.5)\n",
      "Requirement already satisfied: pure-eval in c:\\users\\intel\\anaconda3\\lib\\site-packages (from stack-data->IPython->import-ipynb) (0.2.2)\n",
      "Requirement already satisfied: six in c:\\users\\intel\\anaconda3\\lib\\site-packages (from asttokens->stack-data->IPython->import-ipynb) (1.16.0)\n",
      "Note: you may need to restart the kernel to use updated packages.\n"
     ]
    }
   ],
   "source": [
    "pip install import-ipynb"
   ]
  },
  {
   "cell_type": "code",
   "execution_count": 20,
   "id": "07eaa681-bbaf-4ee7-aa04-1aa6567a285f",
   "metadata": {},
   "outputs": [],
   "source": [
    "import import_ipynb\n",
    "from common import display_missing_values_table"
   ]
  },
  {
   "cell_type": "code",
   "execution_count": 21,
   "id": "2da95e6c-b190-4fdf-89c0-e32782a77010",
   "metadata": {},
   "outputs": [
    {
     "name": "stdout",
     "output_type": "stream",
     "text": [
      "+------------------------+------------------+--------------------------+\n",
      "| Column Name            |   Missing Values |   Missing Percentage (%) |\n",
      "+========================+==================+==========================+\n",
      "| enrollee_id            |                0 |                 0        |\n",
      "+------------------------+------------------+--------------------------+\n",
      "| city                   |                0 |                 0        |\n",
      "+------------------------+------------------+--------------------------+\n",
      "| city_development_index |              479 |                 2.50026  |\n",
      "+------------------------+------------------+--------------------------+\n",
      "| gender                 |             4508 |                23.5306   |\n",
      "+------------------------+------------------+--------------------------+\n",
      "| relevent_experience    |                0 |                 0        |\n",
      "+------------------------+------------------+--------------------------+\n",
      "| enrolled_university    |              386 |                 2.01482  |\n",
      "+------------------------+------------------+--------------------------+\n",
      "| education_level        |              460 |                 2.40109  |\n",
      "+------------------------+------------------+--------------------------+\n",
      "| major_discipline       |             2813 |                14.6832   |\n",
      "+------------------------+------------------+--------------------------+\n",
      "| experience             |               65 |                 0.339284 |\n",
      "+------------------------+------------------+--------------------------+\n",
      "| company_size           |             5938 |                30.9949   |\n",
      "+------------------------+------------------+--------------------------+\n",
      "| company_type           |             6140 |                32.0493   |\n",
      "+------------------------+------------------+--------------------------+\n",
      "| training_hours         |              766 |                 3.99833  |\n",
      "+------------------------+------------------+--------------------------+\n",
      "| target                 |                0 |                 0        |\n",
      "+------------------------+------------------+--------------------------+\n"
     ]
    }
   ],
   "source": [
    "df = pd.read_csv(\"data_science_job.csv\")\n",
    "display_missing_values_table(df)"
   ]
  },
  {
   "cell_type": "code",
   "execution_count": 66,
   "id": "67c7e385-efdc-44c4-85dc-9c08d0c47e4a",
   "metadata": {},
   "outputs": [],
   "source": [
    "cols = [var for var in df.columns if(df[var].isnull().mean()*100 < 5.0 and df[var].isnull().mean()*100 > 0.0)]"
   ]
  },
  {
   "cell_type": "code",
   "execution_count": 64,
   "id": "0e9060b1-7a65-42b7-833f-9f74d7675063",
   "metadata": {},
   "outputs": [
    {
     "data": {
      "text/plain": [
       "['enrollee_id',\n",
       " 'city',\n",
       " 'city_development_index',\n",
       " 'relevent_experience',\n",
       " 'enrolled_university',\n",
       " 'education_level',\n",
       " 'experience',\n",
       " 'training_hours',\n",
       " 'target']"
      ]
     },
     "execution_count": 64,
     "metadata": {},
     "output_type": "execute_result"
    }
   ],
   "source": [
    "cols"
   ]
  },
  {
   "cell_type": "code",
   "execution_count": 40,
   "id": "f8a39dd4-173b-4dc6-b394-ae2a4d885474",
   "metadata": {},
   "outputs": [
    {
     "data": {
      "text/plain": [
       "pandas.core.indexes.base.Index"
      ]
     },
     "execution_count": 40,
     "metadata": {},
     "output_type": "execute_result"
    }
   ],
   "source": [
    "type(df.columns)"
   ]
  },
  {
   "cell_type": "code",
   "execution_count": null,
   "id": "0ce040be-1a2f-4be3-bb0d-06cdd90fbd8d",
   "metadata": {},
   "outputs": [],
   "source": []
  }
 ],
 "metadata": {
  "kernelspec": {
   "display_name": "Python 3 (ipykernel)",
   "language": "python",
   "name": "python3"
  },
  "language_info": {
   "codemirror_mode": {
    "name": "ipython",
    "version": 3
   },
   "file_extension": ".py",
   "mimetype": "text/x-python",
   "name": "python",
   "nbconvert_exporter": "python",
   "pygments_lexer": "ipython3",
   "version": "3.11.7"
  }
 },
 "nbformat": 4,
 "nbformat_minor": 5
}
